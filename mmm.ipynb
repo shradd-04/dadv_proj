{
  "nbformat": 4,
  "nbformat_minor": 0,
  "metadata": {
    "colab": {
      "provenance": [],
      "authorship_tag": "ABX9TyNTQq0fJaNxfbsXV4lBfO1V",
      "include_colab_link": true
    },
    "kernelspec": {
      "name": "python3",
      "display_name": "Python 3"
    },
    "language_info": {
      "name": "python"
    }
  },
  "cells": [
    {
      "cell_type": "markdown",
      "metadata": {
        "id": "view-in-github",
        "colab_type": "text"
      },
      "source": [
        "<a href=\"https://colab.research.google.com/github/shradd-04/dadv_proj/blob/main/mmm.ipynb\" target=\"_parent\"><img src=\"https://colab.research.google.com/assets/colab-badge.svg\" alt=\"Open In Colab\"/></a>"
      ]
    },
    {
      "cell_type": "code",
      "execution_count": null,
      "metadata": {
        "id": "avRM97vyiYOr"
      },
      "outputs": [],
      "source": [
        "import statistics as st\n",
        "import numpy as np\n",
        "import pandas as pd\n",
        "import matplotlib.pyplot as plt\n",
        "import scipy.stats as stats"
      ]
    },
    {
      "cell_type": "code",
      "source": [
        "data = [4,2,8,1,5,7,6]\n",
        "num = data\n",
        "x1 = st.median(num)\n",
        "print(x1)\n",
        "x2 = st.mode(num)\n",
        "print(x2)\n",
        "x3 = st.mean(num)\n",
        "print(x3)\n",
        "x4 = st.stdev(num)\n",
        "print(x4)\n",
        "x5 = st.variance(num)\n",
        "print(x5)"
      ],
      "metadata": {
        "colab": {
          "base_uri": "https://localhost:8080/"
        },
        "id": "E7SeeIJEih1A",
        "outputId": "4d9b0acd-3ce3-49ff-83dd-fd35a97e17b5"
      },
      "execution_count": null,
      "outputs": [
        {
          "output_type": "stream",
          "name": "stdout",
          "text": [
            "5\n",
            "4\n",
            "4.714285714285714\n",
            "2.563479777846623\n",
            "6.571428571428571\n"
          ]
        }
      ]
    },
    {
      "cell_type": "code",
      "source": [
        "labels=['median','mode','mean',\"stnd\",\"var\"]\n",
        "vals=[x1,x2,x3,x4,x5]"
      ],
      "metadata": {
        "id": "gKIrcfyHi8k9"
      },
      "execution_count": null,
      "outputs": []
    },
    {
      "cell_type": "code",
      "source": [
        "plt.figure(figsize=(8,5))\n",
        "plt.bar(labels,vals,color = 'cyan')\n",
        "plt.title('Summary Statistics')\n",
        "plt.ylabel('Value')\n",
        "plt.grid(axis='y')\n",
        "plt.tight_layout()\n",
        "plt.savefig('summary_statistics.png')"
      ],
      "metadata": {
        "colab": {
          "base_uri": "https://localhost:8080/",
          "height": 507
        },
        "id": "IHVzmLI_jMiA",
        "outputId": "15f8c682-deb7-41ca-d114-27ee3a714ab2"
      },
      "execution_count": null,
      "outputs": [
        {
          "output_type": "display_data",
          "data": {
            "text/plain": [
              "<Figure size 800x500 with 1 Axes>"
            ],
            "image/png": "[encoded data removed]"
          },
          "metadata": {}
        }
      ]
    },
    {
      "cell_type": "code",
      "source": [
        "data1 = (11,3,4,5,7,9,2)\n",
        "data2 = (-1,-2,-4,-7,-12,-19)\n",
        "data3 = (-1,-13,-6,4,5,19,9)"
      ],
      "metadata": {
        "id": "FRWKs014jTiw"
      },
      "execution_count": null,
      "outputs": []
    },
    {
      "cell_type": "code",
      "source": [
        "from fractions import Fraction as fr\n",
        "data4 = (fr(1,2),fr(44,12),fr(10,3),fr(2,3))\n",
        "data5 = {1: \"one\" , 2: \"two\" , 3: \"three\"}"
      ],
      "metadata": {
        "id": "_oCwWKByjZek"
      },
      "execution_count": null,
      "outputs": []
    },
    {
      "cell_type": "code",
      "source": [
        "import statistics as st\n",
        "from statistics import mean\n",
        "print(\"Mean of dataset 1 is %s\" %(st.mean(data1)))\n",
        "print(\"Mean of dataset 2 is %s\" %(st.mean(data2)))\n",
        "print(\"Mean of dataset 3 is %s\" %(st.mean(data3)))\n",
        "print(\"Mean of dataset 4 is %s\" %(st.mean(data4)))"
      ],
      "metadata": {
        "colab": {
          "base_uri": "https://localhost:8080/"
        },
        "id": "cdtjVLjTjX-w",
        "outputId": "35f409bb-5589-40ad-9538-b528512a1832"
      },
      "execution_count": null,
      "outputs": [
        {
          "output_type": "stream",
          "name": "stdout",
          "text": [
            "Mean of dataset 1 is 5.857142857142857\n",
            "Mean of dataset 2 is -7.5\n",
            "Mean of dataset 3 is 2.4285714285714284\n",
            "Mean of dataset 4 is 49/24\n"
          ]
        }
      ]
    },
    {
      "cell_type": "code",
      "source": [
        "import scipy\n",
        "import numpy as np\n",
        "\n",
        "arr1 = [1,3,np.nan,27,2,5]\n",
        "print(\"Median using nanmedian :\",np.nanmedian(arr1))\n",
        "print(\"Median without handling nan value :\",np.median(arr1))"
      ],
      "metadata": {
        "colab": {
          "base_uri": "https://localhost:8080/"
        },
        "id": "wvAqKcvdjgy4",
        "outputId": "5b74ccdc-4d39-451e-c825-4b8d70cc3571"
      },
      "execution_count": null,
      "outputs": [
        {
          "output_type": "stream",
          "name": "stdout",
          "text": [
            "Median using nanmedian : 3.0\n",
            "Median without handling nan value : nan\n"
          ]
        }
      ]
    }
  ]
}